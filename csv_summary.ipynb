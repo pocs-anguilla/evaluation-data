{
 "cells": [
  {
   "cell_type": "code",
   "execution_count": null,
   "id": "turned-physiology",
   "metadata": {},
   "outputs": [],
   "source": [
    "!pip install -i https://test.pypi.org/simple/ anguilla --upgrade"
   ]
  },
  {
   "cell_type": "code",
   "execution_count": 3,
   "id": "powerful-transaction",
   "metadata": {},
   "outputs": [
    {
     "name": "stdout",
     "output_type": "stream",
     "text": [
      "0.0.14\n"
     ]
    }
   ],
   "source": [
    "import numpy as np\n",
    "import matplotlib.pyplot as plt\n",
    "import pandas as pd\n",
    "import pathlib\n",
    "import anguilla\n",
    "\n",
    "from IPython.display import display, clear_output\n",
    "\n",
    "import anguilla.hypervolume as hv\n",
    "\n",
    "from anguilla.dominance import NonDominatedSet2D, non_dominated_sort\n",
    "from anguilla.fitness import benchmark\n",
    "\n",
    "print(anguilla.__version__)"
   ]
  },
  {
   "cell_type": "code",
   "execution_count": 4,
   "id": "critical-direction",
   "metadata": {},
   "outputs": [],
   "source": [
    "PAIRS = [\n",
    "    ('ZDT1', 2),\n",
    "    ('ZDT2', 2),\n",
    "    ('ZDT3', 2),\n",
    "    ('ZDT4', 2),\n",
    "    ('ZDT6', 2),\n",
    "    ('IHR1', 2),\n",
    "    ('IHR2', 2),\n",
    "    ('IHR3', 2),\n",
    "    ('IHR4', 2),\n",
    "    ('IHR6', 2),\n",
    "    ('ELLI1', 2),\n",
    "    ('ELLI2', 2),\n",
    "    ('CIGTAB1', 2),\n",
    "    ('CIGTAB2', 2),\n",
    "    ('DTLZ1', 3),\n",
    "    ('DTLZ2', 3),\n",
    "    ('DTLZ3', 3),\n",
    "    ('DTLZ4', 3),\n",
    "    ('DTLZ5', 3),\n",
    "    ('DTLZ6', 3),\n",
    "    ('DTLZ7', 3),\n",
    "    ('GELLI', 3)\n",
    "]\n",
    "\n",
    "ALGOS = [\n",
    "    '(100+1)-MO-CMA-ES-I',\n",
    "    '(100+1)-MO-CMA-ES-P',\n",
    "    '(100+100)-MO-CMA-ES-I',\n",
    "    '(100+100)-MO-CMA-ES-P'\n",
    "]"
   ]
  },
  {
   "cell_type": "code",
   "execution_count": 5,
   "id": "smaller-oklahoma",
   "metadata": {},
   "outputs": [],
   "source": [
    "class NonDominatedSetKD:\n",
    "    def __init__(self):\n",
    "        self.union = []\n",
    "    \n",
    "    def insert(self, points):\n",
    "        self.union.append(points)\n",
    "        \n",
    "    @property\n",
    "    def upper_bound(self):\n",
    "        points = np.vstack(self.union)\n",
    "        ranks, _ = non_dominated_sort(points, 1)\n",
    "        nondominated = points[ranks == 1]\n",
    "        reference = np.max(nondominated, axis=0)\n",
    "        return reference"
   ]
  },
  {
   "cell_type": "code",
   "execution_count": 7,
   "id": "expired-pixel",
   "metadata": {},
   "outputs": [],
   "source": [
    "def check_exists(basepath, func):\n",
    "    basepath = pathlib.Path(basepath)\n",
    "    paths = list(basepath.glob('**/{}*.fitness.csv'.format(func)))\n",
    "    return len(paths) != 0\n",
    "\n",
    "def get_fn_glob(basepath, func, n_evaluations):\n",
    "    basepath = pathlib.Path(basepath)\n",
    "    paths = basepath.glob('**/{}*_{}.fitness.csv'.format(func, n_evaluations))\n",
    "    return paths\n",
    "\n",
    "def get_fn_algo_glob(basepath, func, algo, n_evaluations):\n",
    "    basepath = pathlib.Path(basepath)\n",
    "    paths = basepath.glob('**/{}_{}_*_{}.fitness.csv'.format(func, algo, n_evaluations))\n",
    "    return paths\n",
    "\n",
    "def get_fn_reference_point(basepath, func, n_objs, n_evaluations):\n",
    "    paths = get_fn_glob(basepath, func, n_evaluations)\n",
    "    point_set = NonDominatedSet2D() if n_objs == 2 else NonDominatedSetKD()\n",
    "    for path in paths:\n",
    "        points = np.genfromtxt(path, delimiter=',')\n",
    "        point_set.insert(points)\n",
    "    reference = point_set.upper_bound + 1.0\n",
    "    return reference\n",
    "\n",
    "def compute_fn_hv_indicators(reference, basepath, func, algo, n_objs, n_evaluations):\n",
    "    paths = get_fn_algo_glob(basepath, func, algo, n_evaluations)\n",
    "    indicators = []\n",
    "    for path in paths:\n",
    "        points = np.genfromtxt(path, delimiter=',')\n",
    "        display('Computing HV')\n",
    "        indicator = hv.calculate(points, reference)\n",
    "        display('Done')\n",
    "        indicators.append(indicator)\n",
    "    return np.array(indicators)\n",
    "\n",
    "def compute_summaries(basepath, n_evaluations):\n",
    "    refs = {}\n",
    "    rows = []\n",
    "    for func, n_objs in PAIRS:\n",
    "        if check_exists(basepath, func):\n",
    "            display('Computing reference point for: \"{}, {}, {}\"'.format(func, n_objs, n_evaluations))\n",
    "            reference = get_fn_reference_point(basepath, func, n_objs, n_evaluations)\n",
    "            row = []\n",
    "            for algo in ALGOS:\n",
    "                indicators = compute_fn_hv_indicators(reference, basepath, func, algo, n_objs, n_evaluations)\n",
    "                median_indicator = np.median(indicators)\n",
    "                display('  Computing HV indicator for \"{}, {}, {}, {}\": {}'.format(func, n_objs, algo, n_evaluations, median_indicator))\n",
    "                row.append(median_indicator)\n",
    "            rows.append(row)\n",
    "            clear_output()\n",
    "    df = pd.DataFrame(rows)\n",
    "    df.columns = ALGOS\n",
    "    return df"
   ]
  },
  {
   "cell_type": "code",
   "execution_count": null,
   "id": "literary-strap",
   "metadata": {},
   "outputs": [],
   "source": [
    "compute_summaries('data/shark', 50000)"
   ]
  },
  {
   "cell_type": "code",
   "execution_count": null,
   "id": "combined-guidance",
   "metadata": {},
   "outputs": [
    {
     "data": {
      "text/plain": [
       "'Computing reference point for: \"DTLZ1, 3, 50000\"'"
      ]
     },
     "metadata": {},
     "output_type": "display_data"
    },
    {
     "data": {
      "text/plain": [
       "'Computing HV'"
      ]
     },
     "metadata": {},
     "output_type": "display_data"
    },
    {
     "data": {
      "text/plain": [
       "'Done'"
      ]
     },
     "metadata": {},
     "output_type": "display_data"
    }
   ],
   "source": [
    "compute_summaries('data/anguilla', 50000)"
   ]
  },
  {
   "cell_type": "code",
   "execution_count": null,
   "id": "blank-error",
   "metadata": {},
   "outputs": [],
   "source": []
  }
 ],
 "metadata": {
  "kernelspec": {
   "display_name": "Python 3",
   "language": "python",
   "name": "python3"
  },
  "language_info": {
   "codemirror_mode": {
    "name": "ipython",
    "version": 3
   },
   "file_extension": ".py",
   "mimetype": "text/x-python",
   "name": "python",
   "nbconvert_exporter": "python",
   "pygments_lexer": "ipython3",
   "version": "3.8.6"
  }
 },
 "nbformat": 4,
 "nbformat_minor": 5
}
