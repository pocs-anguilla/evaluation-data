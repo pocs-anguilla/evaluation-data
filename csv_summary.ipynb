{
 "cells": [
  {
   "cell_type": "code",
   "execution_count": 1,
   "id": "adverse-digit",
   "metadata": {},
   "outputs": [
    {
     "name": "stdout",
     "output_type": "stream",
     "text": [
      "Looking in indexes: https://test.pypi.org/simple/\n",
      "Requirement already satisfied: anguilla in /opt/conda/envs/evaluation/lib/python3.8/site-packages (0.0.7)\n",
      "Requirement already satisfied: numpy>=1.19.4 in /opt/conda/envs/evaluation/lib/python3.8/site-packages (from anguilla) (1.20.0)\n"
     ]
    }
   ],
   "source": [
    "!pip install -i https://test.pypi.org/simple/ anguilla"
   ]
  },
  {
   "cell_type": "code",
   "execution_count": 2,
   "id": "assigned-fleet",
   "metadata": {},
   "outputs": [],
   "source": [
    "import numpy as np\n",
    "import matplotlib.pyplot as plt\n",
    "import pandas as pd\n",
    "import pathlib\n",
    "\n",
    "import anguilla.hypervolume as hv\n",
    "\n",
    "from anguilla.dominance import NonDominatedSet2D, non_dominated_sort\n",
    "from anguilla.fitness import benchmark"
   ]
  },
  {
   "cell_type": "code",
   "execution_count": 3,
   "id": "natural-hopkins",
   "metadata": {},
   "outputs": [],
   "source": [
    "PAIRS = [\n",
    "    ('ZDT1', 2),\n",
    "    ('ZDT2', 2),\n",
    "    ('ZDT3', 2),\n",
    "    ('ZDT4', 2),\n",
    "    ('ZDT6', 2),\n",
    "    ('IHR1', 2),\n",
    "    ('IHR2', 2),\n",
    "    ('IHR3', 2),\n",
    "    ('IHR4', 2),\n",
    "    ('IHR6', 2),\n",
    "    ('ELLI1', 2),\n",
    "    ('ELLI2', 2),\n",
    "    ('CIGTAB1', 2),\n",
    "    ('CIGTAB2', 2),\n",
    "    ('DTLZ1', 3),\n",
    "    ('DTLZ2', 3),\n",
    "    ('DTLZ3', 3),\n",
    "    ('DTLZ4', 3),\n",
    "    ('DTLZ5', 3),\n",
    "    ('DTLZ6', 3),\n",
    "    ('DTLZ7', 3),\n",
    "    ('GELLI', 3)\n",
    "]"
   ]
  },
  {
   "cell_type": "code",
   "execution_count": 8,
   "id": "opened-timeline",
   "metadata": {},
   "outputs": [],
   "source": [
    "class NonDominatedSetKD:\n",
    "    def __init__(self):\n",
    "        self.union = []\n",
    "    \n",
    "    def insert(self, points):\n",
    "        self.union.append(points)\n",
    "        \n",
    "    @property\n",
    "    def upper_bound(self):\n",
    "        points = np.vstack(self.union)\n",
    "        ranks, _ = non_dominated_sort(points, 1)\n",
    "        nondominated = points[ranks == 1]\n",
    "        reference = np.max(nondominated, axis=0)\n",
    "        print(reference)\n",
    "        return reference"
   ]
  },
  {
   "cell_type": "code",
   "execution_count": 9,
   "id": "swedish-speed",
   "metadata": {},
   "outputs": [
    {
     "name": "stdout",
     "output_type": "stream",
     "text": [
      "ZDT1 :  [2. 2.]\n",
      "ZDT2 :  [2. 2.]\n",
      "ZDT3 :  [1.85183495 2.        ]\n",
      "ZDT4 :  [ 1.12170616 61.21149172]\n",
      "ZDT6 :  [2.         8.78456947]\n",
      "IHR1 :  [3.24599558 3.58148148]\n",
      "IHR2 :  [3.22020854 2.64178085]\n",
      "IHR3 :  [3.05032648 3.80527343]\n",
      "IHR4 :  [ 1.00494542 88.62576711]\n",
      "IHR6 :  [1.99997239 2.39518576]\n",
      "ELLI1 :  [1.41947769 1.41946378]\n",
      "ELLI2 :  [1.02402379 1.00001314]\n",
      "CIGTAB1 :  [1.40000341 1.39999057]\n",
      "CIGTAB2 :  [2.88827728e+06 6.38032180e+09]\n",
      "[0. 0.]\n",
      "DTLZ1 :  [1. 1.]\n",
      "[6.12323424e-17 6.12323404e-17]\n",
      "DTLZ2 :  [1. 1.]\n",
      "[3.13410478e-15 2.32689734e-15]\n",
      "DTLZ3 :  [1. 1.]\n",
      "[6.12323475e-17 6.12323619e-17]\n",
      "DTLZ4 :  [1. 1.]\n",
      "[4.32978033e-17 4.32978042e-17]\n",
      "DTLZ5 :  [1. 1.]\n",
      "[4.32978028e-17 4.32978028e-17]\n",
      "DTLZ6 :  [1. 1.]\n",
      "[0. 0.]\n",
      "DTLZ7 :  [1. 1.]\n"
     ]
    }
   ],
   "source": [
    "def check_exists(basepath, func):\n",
    "    basepath = pathlib.Path(basepath)\n",
    "    paths = list(basepath.glob('{}*.fitness.csv'.format(func)))\n",
    "    return len(paths) != 0\n",
    "\n",
    "def get_fn_glob(basepath, func, n_evaluations):\n",
    "    basepath = pathlib.Path(basepath)\n",
    "    paths = basepath.glob('{}*_{}.fitness.csv'.format(func, n_evaluations))\n",
    "    return paths\n",
    "\n",
    "def get_fn_reference_point(basepath, func, n_objs, n_evaluations):\n",
    "    paths = get_fn_glob(basepath, func, n_evaluations)\n",
    "    point_set = NonDominatedSet2D() if n_objs == 2 else NonDominatedSetKD()\n",
    "    for path in paths:\n",
    "        points = np.genfromtxt(path, delimiter=',')\n",
    "        point_set.insert(points)\n",
    "    reference = point_set.upper_bound + 1.0\n",
    "    return reference\n",
    "\n",
    "def compute_fn_indicators(basepath, func, n_objs, n_evaluations):\n",
    "    reference = get_fn_reference_point(basepath, func, n_objs, n_evaluations)\n",
    "    paths = get_fn_glob('data/shark', func, n_evaluations)\n",
    "\n",
    "for func, n_objs in PAIRS:\n",
    "    if check_exists('data/shark', func):\n",
    "        ref = get_fn_reference_point('data/shark', func, n_objs, 50000)\n",
    "        print(func, \": \", ref)"
   ]
  },
  {
   "cell_type": "code",
   "execution_count": null,
   "id": "reliable-column",
   "metadata": {},
   "outputs": [],
   "source": []
  }
 ],
 "metadata": {
  "kernelspec": {
   "display_name": "Python 3",
   "language": "python",
   "name": "python3"
  },
  "language_info": {
   "codemirror_mode": {
    "name": "ipython",
    "version": 3
   },
   "file_extension": ".py",
   "mimetype": "text/x-python",
   "name": "python",
   "nbconvert_exporter": "python",
   "pygments_lexer": "ipython3",
   "version": "3.8.6"
  }
 },
 "nbformat": 4,
 "nbformat_minor": 5
}
